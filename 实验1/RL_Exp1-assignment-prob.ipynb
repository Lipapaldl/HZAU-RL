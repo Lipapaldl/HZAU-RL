{
 "cells": [
  {
   "cell_type": "markdown",
   "metadata": {},
   "source": [
    "# 多臂老虎机 （Multi-armed Bandits）  \n",
    "\n",
    "## 介绍（Introduction）\n",
    "\n",
    "在本次作业中，利用学过的强化学习知识实现K臂老虎机问题求解。\n",
    "\n",
    "本次实验需要没有用到额外数据，数据均来自和老虎机（环境）在线交互：\n",
    "***\n",
    "# 涉及强化学习核心概念回顾：\n",
    "- 智能体：设计的算法，核心是策略\n",
    "- 环境：K臂老虎机\n",
    "- 动作：选择那一个arm\n",
    "- 动作空间大小：K， 可以记录为$\\mathcal{A} =\\{a_1, a_2, ...., a_K\\}$, 其中$a_k$代表拉动第$k$个arm的动作。\n",
    "- 状态空间：只有一个状态\n",
    "- 奖励：每次动作后，老虎机返回的奖励\n",
    "- 学习目标：T次拉杆后获得最高奖励: $max \\sum_{t=1}^T r_t, r_t \\sim R(\\cdot |a_t)$\n",
    "***\n",
    "# 评分标准如下：\n",
    "\n",
    "- [测试1：测试K臂老虎机 （5分）](#1)\n",
    "- [步骤2：实现$\\epsilon$-greedy算法（40分），智能体和老虎机交互函数，更新对应arm的估算奖励（20分）](#2)\n",
    "- [测试2：基于实现的$\\epsilon$-greedy算法，测试分析（$\\epsilon=0.01$）（5分）](#3)\n",
    "- [测试3：测试设置不同$\\epsilon$值，分析对性能影响 （10分）](#4)\n",
    "- [测试4：测试动态调整$\\epsilon$对性能影响 （5）](#4)\n",
    "- [总结 （15分）](#4)\n",
    "***"
   ]
  },
  {
   "cell_type": "markdown",
   "metadata": {},
   "source": [
    "<img src=\"./mab.jpg\" style=\"zoom:50%\" />"
   ]
  },
  {
   "cell_type": "code",
   "execution_count": 1,
   "metadata": {},
   "outputs": [],
   "source": [
    "# 导入需要使用的库,其中numpy是支持数组和矩阵运算的科学计算库,而matplotlib是绘图库\n",
    "import numpy as np\n",
    "import matplotlib.pyplot as plt\n",
    "\n",
    "%matplotlib inline"
   ]
  },
  {
   "cell_type": "markdown",
   "metadata": {},
   "source": [
    "<div class=\"alert alert-block alert-warning\">\n",
    "\n",
    "**步骤 1：阅读如下K臂老虎机实现代码**。\n",
    "</div>\n",
    "提示：  假设每个臂奖励分布服从伯努利分布。即奖励可取0,1的随机变量，定义如下伯努利分布：\n",
    "\n",
    "$$\n",
    "p(X) = \n",
    "\\begin{cases}\n",
    "  p, & X = 1 \\\\\n",
    "  1 - p, & X = 0\n",
    "\\end{cases}\n",
    "$$\n",
    "\n",
    "\n",
    "其中，$X \\in \\{0,1\\}$是随机变量，$p$ 是成功的概率。\n",
    "\n",
    "*注意，此时每个手臂的获奖期望估计为p。*\n"
   ]
  },
  {
   "cell_type": "code",
   "execution_count": 2,
   "metadata": {},
   "outputs": [],
   "source": [
    "# ====================== 在这里填入代码 =======================\n",
    "class BernoulliBandit:\n",
    "    \"\"\" 伯努利K臂老虎机,输入K表示拉杆个数 \"\"\"\n",
    "    def __init__(self, K):\n",
    "        \"\"\"K表示拉杆个数,probs表示每根拉杆获奖的概率,最大概率的拉杆为最佳拉杆,其索引为best_idx,最大概率为best_prob\n",
    "        \"\"\"\n",
    "        # 随机每根拉杆获奖的概率（0~1之间）\n",
    "        self.probs = np.random.uniform(size=K) \n",
    "        # 记录获奖概率最大的拉杆\n",
    "        self.best_idx = np.argmax(self.probs)  # 获奖概率最大的拉杆\n",
    "        # 记录获奖概率最大的拉杆的概率\n",
    "        self.best_prob = self.probs[self.best_idx]  # 最大的获奖概率\n",
    "        # 记录老虎机的拉杆个数\n",
    "        self.K = K\n",
    "\n",
    "    def step(self, k):\n",
    "        \"\"\"当玩家选择了k号拉杆后,根据拉动该老虎机的k号拉杆获得奖励的概率返回1（获奖）或0（未获奖）\n",
    "        \"\"\"\n",
    "        # 当玩家选择了k号拉杆后,根据拉动该老虎机的k号拉杆获得奖励的概率返回1（获奖）或0（未\n",
    "        # 获奖）\n",
    "        # 提示：使用np.random.rand函数生成0~1之间的随机数\n",
    "        # 若随机数小于拉杆k的概率，则返回1（表示获得奖励），否则返回0 （表示没有奖励）\n",
    "        if np.random.rand() < self.probs[k]:\n",
    "            return 1\n",
    "        else:\n",
    "            return 0\n",
    "        \n",
    "# ============================================================= "
   ]
  },
  {
   "cell_type": "markdown",
   "metadata": {},
   "source": [
    "<div class=\"alert alert-block alert-warning\">\n",
    "\n",
    "**测试1：测试K臂老虎机 （5分）**。\n",
    "\n",
    "</div>"
   ]
  },
  {
   "cell_type": "code",
   "execution_count": 29,
   "metadata": {},
   "outputs": [
    {
     "name": "stdout",
     "output_type": "stream",
     "text": [
      "10\n",
      "1 0.7203244934421581\n"
     ]
    }
   ],
   "source": [
    "# ====================== 在这里填入代码 =======================\n",
    "# 设定随机种子为1,使实验具有可重复性, 提示：使用np.random.seed函数\n",
    "np.random.seed(1)\n",
    "# 设定老虎机的拉杆个数K=10 \n",
    "K = 10\n",
    "# 创建一个K臂伯努利老虎机环境\n",
    "bandit_10_arm = BernoulliBandit(K) # 创建一个K臂伯努利老虎机环境\n",
    "# 打印老虎机的拉杆个数\n",
    "print(bandit_10_arm.K)\n",
    "# 打印获奖概率最大的拉杆的索引和概率\n",
    "print(bandit_10_arm.best_idx,bandit_10_arm.best_prob)\n",
    "# ============================================================= "
   ]
  },
  {
   "cell_type": "markdown",
   "metadata": {},
   "source": [
    "<div class=\"alert alert-block alert-warning\">\n",
    "\n",
    "**步骤 2：实现$\\epsilon$-greedy算法（40分）, 智能体和K臂老虎机交互一次代码，更新奖励期望（20分）**。\n",
    "</div>\n",
    "\n",
    "提示：\n",
    "\n",
    "定义累积懊悔：**累积懊悔（Cumulative Regret）** 是一个衡量策略性能的指标。它定义为最优策略的期望奖励与所选策略的期望奖励之间的差值的总和。数学上，它可以表示为：\n",
    "\n",
    "$$\n",
    "R(t') = \\sum_{t=1}^{t'} (r_t^* - r_t)\n",
    "$$\n",
    "\n",
    "其中, t'是尝试到了第t'次（t' <= T）, $r_t^*$ 是在第 $t$ 次试验中最优策略的奖励期望（类似gt），$r_t$ 是在第 $t$ 次试验中所选策略的期望奖励。"
   ]
  },
  {
   "cell_type": "code",
   "execution_count": 46,
   "metadata": {},
   "outputs": [],
   "source": [
    "# ====================== 在这里填入代码 =======================\n",
    "class EpsilonGreedy_Solver:\n",
    "    def __init__(self, bandit, epsilon=0.01, init_prob=1.0, use_decay=False):\n",
    "        \"\"\"bandit表示老虎机环境, epsilon表示探索概率,init_prob表示每根拉杆的初始期望奖励估值\n",
    "        \"\"\"\n",
    "        # 初始化老虎机环境\n",
    "        self.bandit = bandit\n",
    "        self.epsilon = epsilon\n",
    "        self.Q = np.array([init_prob] * self.bandit.K)\n",
    "        \n",
    "        # 统计每根拉杆当前尝试次数\n",
    "        self.counts = np.zeros(self.bandit.K) \n",
    "        self.regret = 0.  # 当前步的累积懊悔\n",
    "        # 维护一个列表,记录每一步的累积懊悔\n",
    "        self.regrets = []  # 维护一个列表,记录每一步的累积懊悔\n",
    "        self.use_decay = use_decay\n",
    "        self.total_count = 0\n",
    "        \n",
    "    def update_regret(self, k):\n",
    "        # 我们记录懊悔随时间的累积值\n",
    "        self.regret += self.bandit.best_prob - self.bandit.probs[k]\n",
    "        self.regrets.append(self.regret)\n",
    "    \n",
    "    def epsilon_greedy_policy(self):\n",
    "        \"\"\"NOTE: \n",
    "        提示：epsilon贪婪算法是以epsilon的概率随机选择一根拉杆，以1-epsilon的概率选择期望奖励估值最大的拉杆\n",
    "        利用np.random.random()函数生成0~1之间的随机数和epsion的大小进行比较\n",
    "        np.random.randomint()函数生成0~K-1之间的随机数\n",
    "        np.argmax(self.Q)返回期望奖励估值最大的拉杆的索引\n",
    "        \"\"\"\n",
    "         # =========实现epsilon贪婪算法的具体实现,返回当前动作选择哪一根拉杆===========\n",
    "        rand_num = np.random.random()\n",
    "        \n",
    "        if rand_num < self.epsilon:\n",
    "            k = np.random.randint(low = 0,high = self.bandit.K)\n",
    "        else:\n",
    "            k = np.argmax(self.Q)\n",
    "        return k\n",
    "    \n",
    "    def decay_epsilon_greedy_policy(self):\n",
    "        \"\"\" NOTE\n",
    "        基于记录当前总的尝试次数，计算当前epsilon值\n",
    "        \"\"\"\n",
    "        # =========将epsilon 设置为随时间衰减的策略， epsilon = 1/t, 返回当前动作选择哪一根拉杆===========\n",
    "#         self.total_count += 1\n",
    "        e_decay = 1./self.total_count   \n",
    "        rand_num = np.random.random()\n",
    "        \n",
    "        if rand_num < e_decay:\n",
    "            k = np.random.randint(low = 0,high = self.bandit.K)\n",
    "        else:\n",
    "            k = np.argmax(self.Q) \n",
    "        return k\n",
    "    \n",
    "    def run_one_step(self):\n",
    "        \"\"\"\n",
    "        epsilon贪婪算法的具体实现,返回当前动作选择哪一根拉杆\n",
    "        \"\"\"\n",
    "        # ==========STEP1: 基于策略选择动作==========\n",
    "        if self.use_decay: \n",
    "            self.total_count += 1\n",
    "            k = self.decay_epsilon_greedy_policy()\n",
    "        else:\n",
    "            k = self.epsilon_greedy_policy() \n",
    "        \n",
    "        # ==========STEP2: 将动作k给到老虎机（即环境），获得其奖励r，1表示获得奖励，0表示没有获得奖励==========\n",
    "        r = self.bandit.step(k) \n",
    "        n = self.counts[k] + 1\n",
    "        # ==========STEP3： 更新拉杆k的期望奖励估值==========\n",
    "        # 注意：增量更新公式为：Q(a) = Q(a) + 1/n * (r(a) - Q(a)) （n表示当前拉杆a被选择的次数）  \n",
    "        old_q = self.Q[k]\n",
    "        \n",
    "        self.Q[k] += 1./n * (r - old_q)   \n",
    "        \n",
    "        return k\n",
    "    \n",
    "    def run(self, T):\n",
    "        # 尝试T次\n",
    "        for _ in range(T):\n",
    "            k = self.run_one_step()\n",
    "            self.counts[k] += 1\n",
    "            self.update_regret(k)\n",
    "# =============================================================  "
   ]
  },
  {
   "cell_type": "markdown",
   "metadata": {},
   "source": [
    "<div class=\"alert alert-block alert-warning\">\n",
    "\n",
    "**测试2：基于上述$\\epsilon$-greedy算法，打印测试结果（$\\epsilon=0.01$）** （5分）。\n",
    "\n",
    "</div>"
   ]
  },
  {
   "cell_type": "code",
   "execution_count": 47,
   "metadata": {},
   "outputs": [
    {
     "name": "stdout",
     "output_type": "stream",
     "text": [
      "估算的Q [0.33333333 0.72324499 0.         0.         0.42857143 0.\n",
      " 0.4        0.11111111 0.375      0.5       ]\n",
      "隐藏的概率 [4.17022005e-01 7.20324493e-01 1.14374817e-04 3.02332573e-01\n",
      " 1.46755891e-01 9.23385948e-02 1.86260211e-01 3.45560727e-01\n",
      " 3.96767474e-01 5.38816734e-01]\n",
      "epsilon-贪婪算法的累积懊悔为： 25.526630933945313\n"
     ]
    },
    {
     "data": {
      "image/png": "[encoded data removed]",
      "text/plain": [
       "<Figure size 432x288 with 1 Axes>"
      ]
     },
     "metadata": {
      "needs_background": "light"
     },
     "output_type": "display_data"
    }
   ],
   "source": [
    "def plot_results(solvers, solver_names):\n",
    "    \"\"\"生成累积懊悔随时间变化的图像。输入solvers是一个列表,列表中的每个元素是一种特定的策略。\n",
    "    而solver_names也是一个列表,存储每个策略的名称\"\"\"\n",
    "    for idx, solver in enumerate(solvers):\n",
    "        time_list = range(len(solver.regrets))\n",
    "        plt.plot(time_list, solver.regrets, label=solver_names[idx])\n",
    "    plt.xlabel('Time steps')\n",
    "    plt.ylabel('Cumulative regrets')\n",
    "    plt.title('%d-armed bandit' % solvers[0].bandit.K)\n",
    "    plt.legend()\n",
    "    plt.show()\n",
    "\n",
    "\n",
    "np.random.seed(1)\n",
    "epsilon_greedy_solver = EpsilonGreedy_Solver(bandit_10_arm, epsilon=0.01)\n",
    "# T次尝试\n",
    "T = 5000\n",
    "epsilon_greedy_solver.run(T)\n",
    "print(\"估算的Q\", epsilon_greedy_solver.Q)\n",
    "print(\"隐藏的概率\", bandit_10_arm.probs)\n",
    "\n",
    "print('epsilon-贪婪算法的累积懊悔为：', epsilon_greedy_solver.regret)\n",
    "# 绘制累积懊悔随时间变化的图像\n",
    "plot_results([epsilon_greedy_solver], [\"EpsilonGreedy\"])\n",
    "\n",
    "# epsilon-贪婪算法的累积懊悔为：25.526630933945313"
   ]
  },
  {
   "cell_type": "markdown",
   "metadata": {},
   "source": [
    "<div class=\"alert alert-block alert-warning\">\n",
    "\n",
    "**测试3：测试不同$\\epsilon$对性能影响 （10分）**。\n",
    "\n",
    "</div>\n",
    "\n",
    "将$\\epsilon$分别设置为1e-4, 1e-3, 1e-1, 0.2e-1, 0.5e-1， 跑实验对比分析"
   ]
  },
  {
   "cell_type": "code",
   "execution_count": 48,
   "metadata": {},
   "outputs": [
    {
     "data": {
      "image/png": "[encoded data removed]",
      "text/plain": [
       "<Figure size 432x288 with 1 Axes>"
      ]
     },
     "metadata": {
      "needs_background": "light"
     },
     "output_type": "display_data"
    }
   ],
   "source": [
    "#y是累计懊悔\n",
    "np.random.seed(1)\n",
    "epsilons = [1e-4, 0.01, 0.1, 0.25, 0.5] #epsilon表示探索概率\n",
    "epsilon_greedy_solver_list = [\n",
    "    EpsilonGreedy_Solver(bandit_10_arm, epsilon=e) for e in epsilons\n",
    "]\n",
    "epsilon_greedy_solver_names = [\"epsilon={}\".format(e) for e in epsilons]\n",
    "# T次尝试\n",
    "T = 5000\n",
    "for solver in epsilon_greedy_solver_list:\n",
    "    solver.run(5000)\n",
    "# 绘制累积懊悔随时间变化的图像   \n",
    "plot_results(epsilon_greedy_solver_list, epsilon_greedy_solver_names)"
   ]
  },
  {
   "cell_type": "markdown",
   "metadata": {},
   "source": [
    "\n",
    "<div class=\"alert alert-block alert-warning\">\n",
    "\n",
    "**测试4：测试动态调整$\\epsilon$对性能影响(5分)**。\n",
    "$$\\epsilon = \\frac{1}{t}$$\n",
    "</div>"
   ]
  },
  {
   "cell_type": "code",
   "execution_count": 49,
   "metadata": {},
   "outputs": [
    {
     "name": "stdout",
     "output_type": "stream",
     "text": [
      "拉杆0获奖真实期望为 0.42， 估算期望为0.40\n",
      "拉杆1获奖真实期望为 0.72， 估算期望为0.73\n",
      "拉杆2获奖真实期望为 0.00， 估算期望为0.00\n",
      "拉杆3获奖真实期望为 0.30， 估算期望为0.33\n",
      "拉杆4获奖真实期望为 0.15， 估算期望为0.00\n",
      "拉杆5获奖真实期望为 0.09， 估算期望为0.33\n",
      "拉杆6获奖真实期望为 0.19， 估算期望为0.00\n",
      "拉杆7获奖真实期望为 0.35， 估算期望为0.00\n",
      "拉杆8获奖真实期望为 0.40， 估算期望为0.60\n",
      "拉杆9获奖真实期望为 0.54， 估算期望为0.67\n",
      "epsilon值衰减的贪婪算法的累积懊悔为： 10.114334931260183\n"
     ]
    },
    {
     "data": {
      "image/png": "[encoded data removed]",
      "text/plain": [
       "<Figure size 432x288 with 1 Axes>"
      ]
     },
     "metadata": {
      "needs_background": "light"
     },
     "output_type": "display_data"
    }
   ],
   "source": [
    "np.random.seed(1)\n",
    "decay_epsilon_greedy_solver = EpsilonGreedy_Solver(bandit_10_arm, use_decay=True)\n",
    "\n",
    "# T次尝试\n",
    "T = 5000\n",
    "decay_epsilon_greedy_solver.run(T)\n",
    "\n",
    "# T次尝试之后，我们来查看结果：\n",
    "# 基于估算的Q，可以简单测试是否达到最佳拉杆的索引及其获奖概率，进行验证\n",
    "for a in range(10):\n",
    "    print(f\"拉杆{a}获奖真实期望为{bandit_10_arm.probs[a]: .2f}， 估算期望为{decay_epsilon_greedy_solver.Q[a]:.2f}\")\n",
    "    \n",
    "print('epsilon值衰减的贪婪算法的累积懊悔为：', decay_epsilon_greedy_solver.regret)\n",
    "plot_results([decay_epsilon_greedy_solver], [\"DecayingEpsilonGreedy\"])\n",
    "\n",
    "# epsilon值衰减的贪婪算法的累积懊悔为：10.114334931260183"
   ]
  },
  {
   "cell_type": "markdown",
   "metadata": {},
   "source": [
    "<div class=\"alert alert-block alert-warning\">\n",
    "\n",
    "**总结 （15分）**。\n",
    "</div>\n",
    "提示：从探索与利用的平衡角度，对多臂老虎机问题进行分析和展望。\n"
   ]
  },
  {
   "cell_type": "markdown",
   "metadata": {},
   "source": [
    "\n",
    "## 一个核心要点：由于奖励的概率分布是未知的，因此我们需要在“探索拉杆的获奖概率”和“根据经验选择获奖最多的拉杆”中进行权衡 \n",
    "```\n",
    "    由测试3这个图，可以看出探索概率和累计懊悔有着一定的关系。\n",
    "\n",
    "    当探索概率较大，例如0.5这条线，累计懊悔呈现y=x上升趋势，且函数是发散的。当探索概率维持在较小范围，可以看出累计懊悔函数是收敛的。\n",
    "\n",
    "    当探索概率接近于0，从图中可以看出，累计懊悔的极限也是0。这表明减少探索可能导致更好的长期性能，因为它降低了不确定性并允许Agent专注于基于先验知识选择最有前途的手臂。但是，完全消除探索并非总是最优方案，特别是在学习过程开始时或环境发生变化时。在这种情况下，某些程度的探索是必要的，以适应新情况并发现潜在的更佳选项。\n",
    "```\n",
    "\n",
    "## ε=1/t 随时间递减的贪婪策略：\n",
    "```\n",
    "    有助于在探索和利用之间取得平衡，让学习者在早期收集足够的信息的同时逐渐专注于优化奖励。\n",
    "在学习过程的早期阶段，当总计数量很小时，ε的值会比较大，导致更多的探索行为。随着总计数的增加，ε的值会降低，从而导致对已知最佳手臂的更多利用\n",
    "```"
   ]
  }
 ],
 "metadata": {
  "hide_input": false,
  "kernelspec": {
   "display_name": "Python 3 (ipykernel)",
   "language": "python",
   "name": "python3"
  },
  "language_info": {
   "codemirror_mode": {
    "name": "ipython",
    "version": 3
   },
   "file_extension": ".py",
   "mimetype": "text/x-python",
   "name": "python",
   "nbconvert_exporter": "python",
   "pygments_lexer": "ipython3",
   "version": "3.8.13"
  },
  "toc": {
   "base_numbering": 1,
   "nav_menu": {},
   "number_sections": true,
   "sideBar": true,
   "skip_h1_title": false,
   "title_cell": "Table of Contents",
   "title_sidebar": "Contents",
   "toc_cell": false,
   "toc_position": {},
   "toc_section_display": true,
   "toc_window_display": false
  }
 },
 "nbformat": 4,
 "nbformat_minor": 2
}
