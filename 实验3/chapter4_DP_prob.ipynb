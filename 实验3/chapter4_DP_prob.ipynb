{
 "cells": [
  {
   "cell_type": "markdown",
   "metadata": {},
   "source": [
    "# 第四章： 动态规划算法（Dynamic Programming）  \n",
    "\n",
    "## 介绍（Introduction）\n",
    "\n",
    "在本次实验中，掌握策略迭代算法和价值迭代算法\n",
    "\n",
    "***\n",
    "# 涉及核心概念回顾： 参考课堂上ppt\n",
    "***"
   ]
  },
  {
   "cell_type": "markdown",
   "metadata": {},
   "source": [
    "##### 导入实验所需要的库"
   ]
  },
  {
   "cell_type": "code",
   "execution_count": 1,
   "metadata": {},
   "outputs": [],
   "source": [
    "import copy\n",
    "import numpy as np\n",
    "import matplotlib.pyplot as plt\n",
    "from matplotlib import colors\n",
    "\n",
    "%matplotlib inline"
   ]
  },
  {
   "cell_type": "markdown",
   "metadata": {},
   "source": [
    "<div class=\"alert alert-block alert-warning\">\n",
    "\n",
    "**主题1： 创建悬崖漫步环境** （10分）\n",
    "</div>\n",
    "\n",
    "<img src=\"./cliff_walking.jpg\" style=\"zoom:50%\" />\n",
    "\n",
    "问题描述。\n",
    "悬崖漫步是一个非常经典的强化学习环境，它要求一个智能体从起点出发，避开悬崖行走，最终到达目标位置。如图 4-1 所示，有一个 4×12 的网格世界，每一个网格表示一个状态。智能体的起点是左下角的状态，目标是右下角的状态，智能体在每一个状态都可以采取 4 种动作：上、下、左、右。如果智能体采取动作后触碰到边界墙壁则状态不发生改变，否则就会相应到达下一个状态。环境中有一段悬崖，智能体掉入悬崖或到达目标状态都会结束动作并回到起点，也就是说掉入悬崖或者达到目标状态是终止状态。智能体每走一步的奖励是 −1，掉入悬崖的奖励是 −100。"
   ]
  },
  {
   "cell_type": "code",
   "execution_count": 2,
   "metadata": {
    "executionInfo": {
     "elapsed": 4,
     "status": "ok",
     "timestamp": 1649954819944,
     "user": {
      "displayName": "Sam Lu",
      "userId": "15789059763790170725"
     },
     "user_tz": -480
    },
    "id": "oXP3ykOT95VF"
   },
   "outputs": [],
   "source": [
    "class CliffWalkingEnv:\n",
    "    \"\"\" 悬崖漫步环境\"\"\"\n",
    "    def __init__(self, ncol=12, nrow=4):\n",
    "        \"\"\"<S, A, P, R, gamma>\n",
    "        \"\"\"\n",
    "        self.ncol = ncol  # 定义网格世界的列\n",
    "        self.nrow = nrow  # 定义网格世界的行\n",
    "        # 四参数p(s',r|s,a)的定义,包含下一个状态和奖励\n",
    "        # p: 下一个状态的概率, next_state: 下一个状态, reward: 奖励, done: 是否终止\n",
    "        # self.P[state][action] = [(p, next_state, reward, done)]\n",
    "        self.P = self.createP()\n",
    "\n",
    "    def createP(self):\n",
    "        # 初始化\n",
    "        P = [[[] for j in range(4)] for i in range(self.nrow * self.ncol)]\n",
    "        # 4种动作, change[0]:上,change[1]:下, change[2]:左, change[3]:右。坐标系原点(0,0), 定义在左上角\n",
    "        change = [[0, -1], [0, 1], [-1, 0], [1, 0]]\n",
    "        for i in range(self.nrow):\n",
    "            for j in range(self.ncol):\n",
    "                # 对于每一个状态,我们尝试所有4个动作,这给我们了每个下一个状态的概率, 下一个状态，奖励,以及每个动作是否终止的概率\n",
    "                for a in range(4):\n",
    "                    # 边界条件\n",
    "                    if i == self.nrow - 1 and j > 0:\n",
    "                        # 位置在悬崖或者目标状态,因为无法继续交互,任何动作奖励都为0\n",
    "                        # （下一个状态概率，下一个状态，奖励，是否终止）\n",
    "                        P[i * self.ncol + j][a] = [(1, i * self.ncol + j, 0,\n",
    "                                                    True)]\n",
    "                        continue\n",
    "                    else: \n",
    "                        # 下一个位置\n",
    "                        next_x = min(self.ncol - 1, max(0, j + change[a][0]))\n",
    "                        next_y = min(self.nrow - 1, max(0, i + change[a][1]))\n",
    "                        next_state = next_y * self.ncol + next_x\n",
    "                        reward = -1\n",
    "                        done = False\n",
    "                        # 下一个位置在悬崖或者终点\n",
    "                        if next_y == self.nrow - 1 and next_x > 0:\n",
    "                            done = True\n",
    "                            if next_x != self.ncol - 1:  # 下一个位置在悬崖\n",
    "                                reward = -100\n",
    "                        P[i * self.ncol + j][a] = [(1, next_state, reward, done)]\n",
    "        return P\n",
    "\n",
    "# 创建悬崖漫步环境\n",
    "env = CliffWalkingEnv()"
   ]
  },
  {
   "cell_type": "markdown",
   "metadata": {},
   "source": [
    "**测试1-1**：阅读上述代码，回答如下几个问题"
   ]
  },
  {
   "cell_type": "markdown",
   "metadata": {},
   "source": [
    "回答问题1： 状态空间大小为 [12*4=48]。\n",
    "\n",
    "回答问题2： 动作空间大小为 [4]。\n",
    "\n",
    "回答问题3： 终止状态为 [悬崖区域和终点位置，即最后一行除了起点外的所有位置都可为终止状态]。\n",
    "\n",
    "回答问题4： 上述环境是否为有限MDP问题 [是]，能否有四参数p唯一确定 [是]。  状态空间和动作空间都有限\n",
    "\n",
    "\n",
    "注：在 [填写答案] 填写答案。"
   ]
  },
  {
   "cell_type": "markdown",
   "metadata": {},
   "source": [
    "<div class=\"alert alert-block alert-warning\">\n",
    "\n",
    "**主题2： 策略迭代 （90分）** \n",
    "</div>\n",
    "\n",
    "\n",
    "**测试2-1**：背景知识如下：\n",
    "\n",
    "策略迭代: 策略迭代是策略评估和策略提升不断循环交替，直至最后得到最优策略的过程\n",
    "\n",
    "$$\n",
    "\\pi_0 \\overset{\\text{策略评估}}{->} v_{\\pi_0} \\overset{\\text{策略提升}}{->} \\pi_1 \\overset{\\text{策略评估}}{->} v_{\\pi_1} \\overset{\\text{策略提升}}{->} \\pi_2 ... \\overset{\\text{策略提升}}{->} \\pi_* \\overset{\\text{策略评估}}{->} v_{\\pi_*}\n",
    "$$\n",
    "\n",
    "\n",
    "- 策略评估： 评估一个策略的状态价值函数，主要基于如下贝尔曼方程：\n",
    "$$\n",
    "v_{\\pi}(s) = \\sum_{a \\in \\mathcal{A}} \\pi(a|s) * sum_{s', r}p(s',r|s,a) * [r + \\gamma v(s')], \\quad\\text{for all}\\quad s \\in \\mathcal{S}\n",
    "$$\n",
    "\n",
    "注意: 上述公式也可写成如下：\n",
    "\n",
    "$v_\\pi(s) = \\sum_{a \\in \\mathcal{A}}  \\pi(a|s)  q_\\pi(s, a)$\n",
    "\n",
    "策略评估时，我们用上一轮的状态函数估值更新当前轮状态函数估值，从而更准确的估计出$v_{\\pi}(\\cdot)$\n",
    "\n",
    "$$\n",
    "v^{k+1}_{\\pi}(s) = \\sum_{a \\in \\mathcal{A}} \\pi(a|s) * \\sum_{s', r}p(s',r|s,a) * [r + \\gamma v^{k}(s')^{k+1}], \\quad\\text{for all}\\quad s \\in \\mathcal{S}\n",
    "$$\n",
    "\n",
    "- 策略改进： 使用策略评估计算得到当前策略的状态价值函数之后，我们可以据此来改进该策略。\n",
    "\n",
    "- 贪心的策略提升如下：\n",
    "$$\n",
    "\\pi'(s) = \\text{argmax}_a q_\\pi(s, a) \n",
    "$$\n",
    "\n"
   ]
  },
  {
   "cell_type": "code",
   "execution_count": 3,
   "metadata": {
    "executionInfo": {
     "elapsed": 2012,
     "status": "ok",
     "timestamp": 1649954830279,
     "user": {
      "displayName": "Sam Lu",
      "userId": "15789059763790170725"
     },
     "user_tz": -480
    },
    "id": "N95QAxfi95VJ"
   },
   "outputs": [],
   "source": [
    "class PolicyIteration:\n",
    "    \"\"\" 策略迭代算法 \"\"\"\n",
    "    def __init__(self, env, theta, gamma):\n",
    "        self.env = env\n",
    "        self.v = [0] * self.env.ncol * self.env.nrow  # 初始化价值为0\n",
    "        # 初始化策略为均匀随机策略\n",
    "        self.pi = self.get_equiprobable_random_policy(env)\n",
    "        \n",
    "        self.theta = theta  # 策略评估收敛阈值\n",
    "        self.gamma = gamma  # 折扣因子\n",
    "\n",
    "    def get_equiprobable_random_policy(self, env):  \n",
    "        \"\"\" 均匀随机策略\n",
    "        参数:\n",
    "        - env: object\n",
    "            环境对象\n",
    "        返回:\n",
    "        - pi: list\n",
    "            包含策略的列表\n",
    "        \"\"\"\n",
    "        # \n",
    "        # ******************测试1（TODO）: 定义一个等概率随机策略（10分）******************\n",
    "        # 例子：对于4*4的网格世界，每个状态的策略为[0.25, 0.25, 0.25, 0.25]，即每个动作的概率相等\n",
    "        # [[0.25, 0.25, 0.25, 0.25], [0.25, 0.25, 0.25, 0.25], ...]] \n",
    "        n_a = 4 #动作空间大小\n",
    "        n_s = env.ncol * env.nrow #状态空间大小\n",
    "        pi = [[1/n_a] * n_a for _ in range(n_s)]\n",
    "        \n",
    "        return pi\n",
    "    def cal_qsa_list(self, s): \n",
    "        \"\"\" 给定状态，返回在该状态下执行当前策略不同动作的价值 (注意：依赖self.env.P和self.v)\n",
    "        参数:\n",
    "        - s: int\n",
    "            输入的状态s\n",
    "        返回:\n",
    "        - qsa_list: list\n",
    "            包含Q(s,a)的列表，a=0,1,2,3\n",
    "        \"\"\" \n",
    "        qsa_list = [0]*4\n",
    "        # \n",
    "        # ******************测试4 (TODO): 计算qsa_list[a] （20分）******************\n",
    "        # \n",
    "        for action in range(4):\n",
    "            #遍历策略s下的每一个动作a\n",
    "             # p: 下一个状态的概率, next_state: 下一个状态, reward: 奖励, done: 是否终止\n",
    "            for prob, next_state, reward, done in self.env.P[s][action]:\n",
    "                #公式：当前状态的价值 = 累加（动作概率 *（奖励+gamma*下一个状态的价值）） \n",
    "                qsa_list[action] += prob * (reward + self.gamma * self.v[next_state])\n",
    "        \n",
    "        return qsa_list\n",
    "    \n",
    "    \n",
    "    def policy_evaluation(self):\n",
    "        \"\"\"策略评估\n",
    "        \"\"\"\n",
    "        cnt = 1  # 计数器\n",
    "        while True:\n",
    "            max_diff = 0\n",
    "            new_v = [0] * self.env.ncol * self.env.nrow\n",
    "            for s in range(self.env.ncol * self.env.nrow):\n",
    "                # 对于每一个状态s, 基于贝尔曼方程计算当前策略下状态价值函数最新近似数值\n",
    "                qsa_list = self.cal_qsa_list(s)\n",
    "                \n",
    "                # \n",
    "                # ******************测试2 (TODO): 计算新的状态价值函数 （20分）******************\n",
    "                # \n",
    "                new_v[s] = max(qsa_list)\n",
    "                \n",
    "                # 更新最大差值\n",
    "                max_diff = max(max_diff, abs(new_v[s] - self.v[s]))\n",
    "            \n",
    "            # 更新状态价值函数\n",
    "            self.v = new_v\n",
    "            \n",
    "            # \n",
    "            # ******************测试3 (TODO): 判断是否满足收敛条件，满足则退出评估迭代 （10分）******************\n",
    "            # \n",
    "            if max_diff < self.theta:\n",
    "                break  \n",
    "            \n",
    "            cnt += 1\n",
    "        print(\"策略评估进行%d轮后完成\" % cnt)\n",
    "    \n",
    "    def greedy_policy_improvement(self):  # 策略提升\n",
    "        # 遍历每一个状态\n",
    "        for s in range(self.env.nrow * self.env.ncol):\n",
    "            # 计算在状态s下执行不同动作的价值\n",
    "            qsa_list = self.cal_qsa_list(s)\n",
    "            maxq = max(qsa_list) \n",
    "            cntq = qsa_list.count(maxq) \n",
    "            \n",
    "            # \n",
    "            # ******************测试5 (TODO): 计算改进后新策略（10）******************\n",
    "            # 提示：maxq为最大的Q值，cntq为最大Q值的个数，即在状态s下有多少个动作的Q值等于最大Q值\n",
    "            \n",
    "            new_policy = [0] * 4 #初始化新策略\n",
    "            for a in range(4):\n",
    "                if qsa_list[a] == maxq:  # 若qsa_list=[1, 3, 2, 3], 则maxq=3, cntq=2\n",
    "                     # 则新的策略为在状态s下，执行最大Q值的动作的概率为1/cntq, 其他动作的概率为0\n",
    "                    new_policy[a] = 1 / cntq\n",
    "            self.pi[s] = new_policy # self.pi[s] = [0, 0.5, 0, 0.5]\n",
    "            \n",
    "        print(\"策略提升完成\")\n",
    "        \n",
    "        return self.pi\n",
    "    \n",
    "    def policy_iteration(self):  # 策略迭代\n",
    "        while True:\n",
    "            # \n",
    "            # ****************** 测试7 (TODO): 更新迭代 （20分）******************\n",
    "            #先调用策略评估\n",
    "            self.policy_evaluation()\n",
    "            #然后利用copy.deepcopy()深拷贝旧的策略\n",
    "            old_policy = np.copy(self.pi)\n",
    "            #再调用策略提升\n",
    "            self.greedy_policy_improvement()\n",
    "            #最后判断新旧策略是否相同，相同则退出迭代\n",
    "            if np.array_equal(old_policy, self.pi):\n",
    "                break\n",
    "            print(\"over\")"
   ]
  },
  {
   "cell_type": "markdown",
   "metadata": {},
   "source": [
    "如下代码为打印价值和策略的代码，请调用下面代码实现打印功能。"
   ]
  },
  {
   "cell_type": "code",
   "execution_count": 5,
   "metadata": {},
   "outputs": [],
   "source": [
    "def plot_v_values(v, nrows, ncols):\n",
    "    \"\"\"Plots the value function in each state as a grid.\n",
    "\n",
    "    Args:\n",
    "        v (array): numpy array representing the value function\n",
    "        n (int):\n",
    "    \"\"\"\n",
    "\n",
    "    fig, ax = plt.subplots()\n",
    "    im = ax.imshow(np.array(v).reshape(nrows, ncols), cmap='YlOrBr', interpolation='nearest')\n",
    "\n",
    "    # draw gridlines\n",
    "    ax.grid(which='major', axis='both', linestyle='-', color='k', linewidth=2)\n",
    "    ax.set_xticks(np.arange(-.5, ncols, 1))\n",
    "    ax.set_yticks(np.arange(-.5, nrows, 1))\n",
    "\n",
    "    # Loop over data dimensions and create text annotations.\n",
    "    for i in range(nrows):\n",
    "        for j in range(ncols):\n",
    "            text = ax.text(j, i, \"{:.2f}\".format(v[i*ncols + j]), ha=\"center\", va=\"center\", color=\"black\")\n",
    "\n",
    "    ax.set_title(\"Value function\")\n",
    "    fig.tight_layout()\n",
    "    plt.show()"
   ]
  },
  {
   "cell_type": "code",
   "execution_count": 6,
   "metadata": {
    "colab": {
     "base_uri": "https://localhost:8080/"
    },
    "executionInfo": {
     "elapsed": 4,
     "status": "ok",
     "timestamp": 1649954831712,
     "user": {
      "displayName": "Sam Lu",
      "userId": "15789059763790170725"
     },
     "user_tz": -480
    },
    "id": "yZCGJazo95VK",
    "outputId": "c84ef7a4-7c75-42f6-92ec-bf0c3e4ea167"
   },
   "outputs": [],
   "source": [
    "def print_agent(agent, action_meaning, disaster=[], end=[]):\n",
    "    print(\"状态价值：\")\n",
    "    \n",
    "    plot_v_values(agent.v, agent.env.nrow, agent.env.ncol)\n",
    "    \n",
    "    print(\"策略：\")\n",
    "    for i in range(agent.env.nrow):\n",
    "        for j in range(agent.env.ncol):\n",
    "            if (i * agent.env.ncol + j) in disaster:\n",
    "                # 一些特殊的状态,例如悬崖漫步中的悬崖\n",
    "                print('****', end=' ')\n",
    "            elif (i * agent.env.ncol + j) in end:  \n",
    "                # 目标状态 \n",
    "                print('EEEE', end=' ')\n",
    "            else:\n",
    "                # 其他状态， 根据策略输出动作\n",
    "                a = agent.pi[i * agent.env.ncol + j]\n",
    "                pi_str = ''\n",
    "                # 遍历四种动作，即上下左右\n",
    "                for k in range(len(action_meaning)):\n",
    "                    pi_str += action_meaning[k] if a[k] > 0 else 'o'\n",
    "                print(pi_str, end=' ')\n",
    "        print()"
   ]
  },
  {
   "cell_type": "markdown",
   "metadata": {},
   "source": [
    "测试代码如下："
   ]
  },
  {
   "cell_type": "code",
   "execution_count": 7,
   "metadata": {},
   "outputs": [
    {
     "name": "stdout",
     "output_type": "stream",
     "text": [
      "策略评估进行15轮后完成\n",
      "策略提升完成\n",
      "over\n",
      "策略评估进行1轮后完成\n",
      "策略提升完成\n",
      "状态价值：\n"
     ]
    },
    {
     "data": {
      "image/png": "[encoded data removed]",
      "text/plain": [
       "<Figure size 432x288 with 1 Axes>"
      ]
     },
     "metadata": {
      "needs_background": "light"
     },
     "output_type": "display_data"
    },
    {
     "name": "stdout",
     "output_type": "stream",
     "text": [
      "策略：\n",
      "ovo> ovo> ovo> ovo> ovo> ovo> ovo> ovo> ovo> ovo> ovo> ovoo \n",
      "ovo> ovo> ovo> ovo> ovo> ovo> ovo> ovo> ovo> ovo> ovo> ovoo \n",
      "ooo> ooo> ooo> ooo> ooo> ooo> ooo> ooo> ooo> ooo> ooo> ovoo \n",
      "^ooo **** **** **** **** **** **** **** **** **** **** EEEE \n"
     ]
    }
   ],
   "source": [
    "\n",
    "action_meaning = ['^', 'v', '<', '>']\n",
    "theta = 0.001\n",
    "gamma = 0.9\n",
    "agent = PolicyIteration(env, theta, gamma)\n",
    "agent.policy_iteration()\n",
    "print_agent(agent, action_meaning, list(range(37, 47)), [47])\n",
    "\n",
    "# 策略评估进行60轮后完成\n",
    "# 策略提升完成\n",
    "# 策略评估进行72轮后完成\n",
    "# 策略提升完成\n",
    "# 策略评估进行44轮后完成\n",
    "# 策略提升完成\n",
    "# 策略评估进行12轮后完成\n",
    "# 策略提升完成\n",
    "# 策略评估进行1轮后完成\n",
    "# 策略提升完成\n",
    "# 状态价值：\n",
    "# -7.712 -7.458 -7.176 -6.862 -6.513 -6.126 -5.695 -5.217 -4.686 -4.095 -3.439 -2.710\n",
    "# -7.458 -7.176 -6.862 -6.513 -6.126 -5.695 -5.217 -4.686 -4.095 -3.439 -2.710 -1.900\n",
    "# -7.176 -6.862 -6.513 -6.126 -5.695 -5.217 -4.686 -4.095 -3.439 -2.710 -1.900 -1.000\n",
    "# -7.458  0.000  0.000  0.000  0.000  0.000  0.000  0.000  0.000  0.000  0.000  0.000\n",
    "# 策略：\n",
    "# ovo> ovo> ovo> ovo> ovo> ovo> ovo> ovo> ovo> ovo> ovo> ovoo\n",
    "# ovo> ovo> ovo> ovo> ovo> ovo> ovo> ovo> ovo> ovo> ovo> ovoo\n",
    "# ooo> ooo> ooo> ooo> ooo> ooo> ooo> ooo> ooo> ooo> ooo> ovoo\n",
    "# ^ooo **** **** **** **** **** **** **** **** **** **** EEEE"
   ]
  },
  {
   "cell_type": "markdown",
   "metadata": {},
   "source": [
    "<div class=\"alert alert-block alert-warning\">\n",
    "\n",
    "**总结**\n",
    "</div>\n",
    "\n",
    "本章实验以悬崖漫步作为案例，通过策略迭代的方式帮助智能体找到最优策略。\n",
    "\n",
    "智能体需要从起点出发，穿过网格世界，避开悬崖区域，最终到达目标位置。悬崖区域是一个负奖励区域，智能体进入悬崖会受到较大的惩罚。\n",
    "\n",
    "策略迭代算法包括**策略评估**和**策略提升**两个步骤。\n",
    "\n",
    "**策略评估阶段**，通过迭代计算每个状态的价值函数，直到收敛到某个阈值为止。这一过程确保了当前策略的质量。\n",
    "\n",
    "**策略提升阶段**，基于当前估计的价值函数，更新策略，使得每个状态下选择的动作更加倾向于产生更高的回报。这一过程提高了策略的质量。\n"
   ]
  },
  {
   "cell_type": "markdown",
   "metadata": {},
   "source": [
    "<div class=\"alert alert-block alert-warning\">\n",
    "\n",
    "**附加主题3： 挑战题 (+15)**\n",
    "</div>\n",
    "\n",
    "完成cal_qsa_list 和get_policy函数。"
   ]
  },
  {
   "cell_type": "code",
   "execution_count": 10,
   "metadata": {
    "executionInfo": {
     "elapsed": 3,
     "status": "ok",
     "timestamp": 1649954834592,
     "user": {
      "displayName": "Sam Lu",
      "userId": "15789059763790170725"
     },
     "user_tz": -480
    },
    "id": "qs8Xd7LI95VL"
   },
   "outputs": [
    {
     "name": "stdout",
     "output_type": "stream",
     "text": [
      "价值迭代一共进行14轮\n",
      "状态价值：\n"
     ]
    },
    {
     "data": {
      "image/png": "[encoded data removed]",
      "text/plain": [
       "<Figure size 432x288 with 1 Axes>"
      ]
     },
     "metadata": {
      "needs_background": "light"
     },
     "output_type": "display_data"
    },
    {
     "name": "stdout",
     "output_type": "stream",
     "text": [
      "策略：\n",
      "ovo> ovo> ovo> ovo> ovo> ovo> ovo> ovo> ovo> ovo> ovo> ovoo \n",
      "ovo> ovo> ovo> ovo> ovo> ovo> ovo> ovo> ovo> ovo> ovo> ovoo \n",
      "ooo> ooo> ooo> ooo> ooo> ooo> ooo> ooo> ooo> ooo> ooo> ovoo \n",
      "^ooo **** **** **** **** **** **** **** **** **** **** EEEE \n"
     ]
    }
   ],
   "source": [
    "class ValueIteration:\n",
    "    \"\"\" 价值迭代算法 \"\"\"\n",
    "    def __init__(self, env, theta, gamma):\n",
    "        self.env = env\n",
    "        self.v = [0] * self.env.ncol * self.env.nrow  # 初始化价值为0\n",
    "        self.theta = theta  # 价值收敛阈值\n",
    "        self.gamma = gamma\n",
    "        # 价值迭代结束后得到的策略\n",
    "        self.pi = [None for i in range(self.env.ncol * self.env.nrow)]\n",
    "\n",
    "    def value_iteration(self):\n",
    "        cnt = 0\n",
    "        while True:\n",
    "            max_diff = 0\n",
    "            new_v = [0] * self.env.ncol * self.env.nrow\n",
    "            for s in range(self.env.ncol * self.env.nrow):\n",
    "                # 开始计算状态s下的所有Q(s,a)价值\n",
    "                qsa_list = self.cal_qsa_list(s)\n",
    "                new_v[s] = max(qsa_list)\n",
    "                max_diff = max(max_diff, abs(new_v[s] - self.v[s]))\n",
    "            self.v = new_v\n",
    "            if max_diff < self.theta: \n",
    "                break  # 满足收敛条件,退出评估迭代\n",
    "            cnt += 1\n",
    "        print(\"价值迭代一共进行%d轮\" % cnt)\n",
    "        \n",
    "        # 根据最优策略对应的价值函数估值导出一个最优策略\n",
    "        self.get_policy()\n",
    "\n",
    "    def cal_qsa_list(self, s): \n",
    "        # 附加测试 (TODO): 计算qsa_list[a] （10分）\n",
    "        #初始化价值列表\n",
    "        qsa_list = [0] * 4\n",
    "        for action in range(4):\n",
    "#             p: 下一个状态的概率, next_state: 下一个状态, reward: 奖励, done: 是否终止\n",
    "            for prob, next_state, reward, done in self.env.P[s][action]:\n",
    "                # 使用贝尔曼方程计算动作价值\n",
    "                qsa_list[action] += prob * (reward + self.gamma * self.v[next_state])\n",
    "        return qsa_list\n",
    "    \n",
    "    def get_policy(self):  # 根据价值函数导出一个贪婪策略\n",
    "        # 附加测试(TODO): 根据价值函数导出一个贪婪策略 （10分）\n",
    "        #遍历每一个状态，12x4\n",
    "        for s in range(self.env.ncol * self.env.nrow):\n",
    "            qsa_list = self.cal_qsa_list(s)  # 计算状态 s 下执行每个动作的价值函数\n",
    "            maxq = max(qsa_list)  # 获取最大的动作价值\n",
    "            # 获取具有最大动作价值的动作\n",
    "            best_actions = [i for i, q in enumerate(qsa_list) if q == maxq]\n",
    "            # 更新策略，将最优动作对应的概率设为1，其他动作设为0.0\n",
    "            num = len(best_actions)\n",
    "            self.pi[s] = [1.0/num if i in best_actions else 0.0 for i in range(4)]\n",
    "        \n",
    "\n",
    "env = CliffWalkingEnv()\n",
    "action_meaning = ['^', 'v', '<', '>']\n",
    "theta = 0.001\n",
    "gamma = 0.9\n",
    "agent = ValueIteration(env, theta, gamma)\n",
    "agent.value_iteration()\n",
    "print_agent(agent, action_meaning, list(range(37, 47)), [47])\n",
    "\n",
    "# 价值迭代一共进行14轮\n",
    "# 状态价值：\n",
    "# -7.712 -7.458 -7.176 -6.862 -6.513 -6.126 -5.695 -5.217 -4.686 -4.095 -3.439 -2.710\n",
    "# -7.458 -7.176 -6.862 -6.513 -6.126 -5.695 -5.217 -4.686 -4.095 -3.439 -2.710 -1.900\n",
    "# -7.176 -6.862 -6.513 -6.126 -5.695 -5.217 -4.686 -4.095 -3.439 -2.710 -1.900 -1.000\n",
    "# -7.458  0.000  0.000  0.000  0.000  0.000  0.000  0.000  0.000  0.000  0.000  0.000\n",
    "# 策略：\n",
    "# ovo> ovo> ovo> ovo> ovo> ovo> ovo> ovo> ovo> ovo> ovo> ovoo\n",
    "# ovo> ovo> ovo> ovo> ovo> ovo> ovo> ovo> ovo> ovo> ovo> ovoo\n",
    "# ooo> ooo> ooo> ooo> ooo> ooo> ooo> ooo> ooo> ooo> ooo> ovoo\n",
    "# ^ooo **** **** **** **** **** **** **** **** **** **** EEEE"
   ]
  }
 ],
 "metadata": {
  "colab": {
   "collapsed_sections": [],
   "name": "第4章-动态规划算法.ipynb",
   "provenance": [],
   "toc_visible": true
  },
  "kernelspec": {
   "display_name": "Python 3 (ipykernel)",
   "language": "python",
   "name": "python3"
  },
  "language_info": {
   "codemirror_mode": {
    "name": "ipython",
    "version": 3
   },
   "file_extension": ".py",
   "mimetype": "text/x-python",
   "name": "python",
   "nbconvert_exporter": "python",
   "pygments_lexer": "ipython3",
   "version": "3.8.13"
  }
 },
 "nbformat": 4,
 "nbformat_minor": 1
}
